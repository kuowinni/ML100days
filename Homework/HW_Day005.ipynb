{
 "cells": [
  {
   "cell_type": "markdown",
   "metadata": {
    "id": "oef8c2jr-PZY"
   },
   "source": [
    "作業目標<br>\n",
    "計算有缺失值的資料，統計量實作<br>\n",
    "作業重點<br>\n",
    "當遇到缺失值有函式可以處理，不須額外寫程式刪除<br>\n",
    "計算統計量時不能出現缺失值"
   ]
  },
  {
   "cell_type": "markdown",
   "metadata": {
    "id": "4YgL8NF4-Ru3"
   },
   "source": [
    "題目:<br>\n",
    "english_score = np.array([55,89,76,65,48,70])<br>\n",
    "math_score = np.array([60,85,60,68,np.nan,60])<br>\n",
    "chinese_score = np.array([65,90,82,72,66,77])<br>\n",
    "上3列共六位同學的英文、數學、國文成績，第一個元素代表第一位同學，舉例第一位同學英文55分、數學60分、國文65分，今天第五位同學因某原因沒來考試，導致數學成績缺值，運用上列數據回答下列問題。<br>\n",
    "1. 請計算各科成績平均、最大值、最小值、標準差，其中數學缺一筆資料可忽略?\n",
    "2. 第五位同學補考數學後成績為55，請計算補考後數學成績平均、最大值、最小值、標準差?\n",
    "3. 用補考後資料找出與國文成績相關係數最高的學科?"
   ]
  },
  {
   "cell_type": "code",
   "execution_count": 49,
   "metadata": {
    "executionInfo": {
     "elapsed": 617,
     "status": "ok",
     "timestamp": 1609854566856,
     "user": {
      "displayName": "献竤黃",
      "photoUrl": "",
      "userId": "07529243043474362942"
     },
     "user_tz": -480
    },
    "id": "QwsKU8qO-RK7"
   },
   "outputs": [],
   "source": [
    "import numpy as np"
   ]
  },
  {
   "cell_type": "code",
   "execution_count": 54,
   "metadata": {
    "executionInfo": {
     "elapsed": 1016,
     "status": "ok",
     "timestamp": 1609854567261,
     "user": {
      "displayName": "献竤黃",
      "photoUrl": "",
      "userId": "07529243043474362942"
     },
     "user_tz": -480
    },
    "id": "B5BqDQAe_czh"
   },
   "outputs": [],
   "source": [
    "english_score = np.array([55,89,76,65,48,70])\n",
    "math_score = np.array([60,85,60,68,np.nan,60])\n",
    "chinese_score = np.array([65,90,82,72,66,77])"
   ]
  },
  {
   "cell_type": "code",
   "execution_count": 55,
   "metadata": {
    "executionInfo": {
     "elapsed": 1005,
     "status": "ok",
     "timestamp": 1609854567262,
     "user": {
      "displayName": "献竤黃",
      "photoUrl": "",
      "userId": "07529243043474362942"
     },
     "user_tz": -480
    },
    "id": "K3tUA6u9aI3N"
   },
   "outputs": [
    {
     "name": "stdout",
     "output_type": "stream",
     "text": [
      "各科平均值- 英文: 67.16666666666667 數學: 66.6 國文: 75.33333333333333\n",
      "各科最大值- 英文: 89 數學: 85.0 國文: 90\n",
      "各科最小值- 英文: 48 數學: 60.0 國文: 65\n",
      "各科標準差- 英文: 13.433995020924426 數學: 9.707728879609279 國文: 8.825468196582484\n"
     ]
    }
   ],
   "source": [
    "#1. 請計算各科成績平均、最大值、最小值、標準差，其中數學缺一筆資料可忽略?\n",
    "#平均\n",
    "en_mean=np.mean(english_score)\n",
    "math_mean=np.nanmean(math_score)\n",
    "chinese_mean=np.mean(chinese_score)\n",
    "print(\"各科平均值- 英文:\",en_mean,\"數學:\",math_mean,\"國文:\",chinese_mean)\n",
    "\n",
    "#最大值\n",
    "en_maxinum=np.max(english_score)\n",
    "math_maxinum=np.nanmax(math_score)\n",
    "chinese_maxinum=np.max(chinese_score)\n",
    "print(\"各科最大值- 英文:\",en_maxinum,\"數學:\",math_maxinum,\"國文:\",chinese_maxinum)\n",
    "\n",
    "#最小值\n",
    "en_mininum=np.min(english_score)\n",
    "math_mininum=np.nanmin(math_score)\n",
    "chinese_mininum=np.min(chinese_score)\n",
    "print(\"各科最小值- 英文:\",en_mininum,\"數學:\",math_mininum,\"國文:\",chinese_mininum)\n",
    "\n",
    "#標準差\n",
    "en_std=np.std(english_score)\n",
    "math_std=np.nanstd(math_score)\n",
    "chinese_std=np.std(chinese_score)\n",
    "print(\"各科標準差- 英文:\",en_std,\"數學:\",math_std,\"國文:\",chinese_std)\n",
    "\n"
   ]
  },
  {
   "cell_type": "code",
   "execution_count": 56,
   "metadata": {
    "executionInfo": {
     "elapsed": 996,
     "status": "ok",
     "timestamp": 1609854567262,
     "user": {
      "displayName": "献竤黃",
      "photoUrl": "",
      "userId": "07529243043474362942"
     },
     "user_tz": -480
    },
    "id": "mXjDzvSrbLlf"
   },
   "outputs": [
    {
     "name": "stdout",
     "output_type": "stream",
     "text": [
      "平均值- 數學: 64.66666666666667\n",
      "最大值- 數學: 85.0\n",
      "最小值-數學: 55.0\n",
      "標準差-數學: 9.860132971832694\n"
     ]
    }
   ],
   "source": [
    "#2. 第五位同學補考數學後成績為55，請計算補考後數學成績平均、最大值、最小值、標準差?\n",
    "math_score[4]=55\n",
    "math_score\n",
    "\n",
    "#平均\n",
    "math_mean=np.mean(math_score)\n",
    "print(\"平均值- 數學:\",math_mean)\n",
    "\n",
    "#最大值\n",
    "math_maxinum=np.max(math_score)\n",
    "print(\"最大值- 數學:\",math_maxinum)\n",
    "\n",
    "#最小值\n",
    "math_mininum=np.min(math_score)\n",
    "print(\"最小值-數學:\",math_mininum)\n",
    "\n",
    "#標準差\n",
    "math_std=np.std(math_score)\n",
    "print(\"標準差-數學:\",math_std)\n"
   ]
  },
  {
   "cell_type": "code",
   "execution_count": 57,
   "metadata": {
    "executionInfo": {
     "elapsed": 989,
     "status": "ok",
     "timestamp": 1609854567264,
     "user": {
      "displayName": "献竤黃",
      "photoUrl": "",
      "userId": "07529243043474362942"
     },
     "user_tz": -480
    },
    "id": "SaGolKx0cKoU"
   },
   "outputs": [
    {
     "name": "stdout",
     "output_type": "stream",
     "text": [
      "[[1.         0.74056803]\n",
      " [0.74056803 1.        ]]\n",
      "[[1.         0.97792828]\n",
      " [0.97792828 1.        ]]\n",
      "英文與國文相關係數較高\n"
     ]
    }
   ],
   "source": [
    "#3. 用補考後資料找出與國文成績相關係數最高的學科?\n",
    "m=np.corrcoef(chinese_score,math_score)\n",
    "print(m)\n",
    "\n",
    "e=np.corrcoef(chinese_score,english_score)\n",
    "print(e)\n",
    "print(\"英文與國文相關係數較高\")"
   ]
  },
  {
   "cell_type": "code",
   "execution_count": null,
   "metadata": {},
   "outputs": [],
   "source": []
  }
 ],
 "metadata": {
  "colab": {
   "authorship_tag": "ABX9TyPtywwDR7TsGGEOMGYLDT5h",
   "collapsed_sections": [],
   "name": "作業Hong題目.ipynb",
   "provenance": []
  },
  "kernelspec": {
   "display_name": "Python 3",
   "language": "python",
   "name": "python3"
  },
  "language_info": {
   "codemirror_mode": {
    "name": "ipython",
    "version": 3
   },
   "file_extension": ".py",
   "mimetype": "text/x-python",
   "name": "python",
   "nbconvert_exporter": "python",
   "pygments_lexer": "ipython3",
   "version": "3.7.3"
  }
 },
 "nbformat": 4,
 "nbformat_minor": 1
}
